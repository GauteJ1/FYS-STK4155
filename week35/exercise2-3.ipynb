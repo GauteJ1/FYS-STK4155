{
 "cells": [
  {
   "cell_type": "markdown",
   "metadata": {},
   "source": [
    "## Exercise 2:"
   ]
  },
  {
   "cell_type": "code",
   "execution_count": 1,
   "metadata": {},
   "outputs": [],
   "source": [
    "%matplotlib inline\n",
    "\n",
    "import numpy as np\n",
    "import matplotlib.pyplot as plt\n",
    "from sklearn.preprocessing import PolynomialFeatures\n",
    "from sklearn.linear_model import LinearRegression\n",
    "from sklearn.metrics import mean_squared_error, r2_score\n",
    "from sklearn.model_selection import train_test_split"
   ]
  },
  {
   "cell_type": "code",
   "execution_count": 2,
   "metadata": {},
   "outputs": [],
   "source": [
    "# Define x and y:\n",
    "n = 100\n",
    "\n",
    "x = np.random.rand(n,1)\n",
    "y = 2.0+5*x*x+0.1*np.random.randn(n,1)"
   ]
  },
  {
   "cell_type": "markdown",
   "metadata": {},
   "source": [
    "1. Make model manually:\n",
    "- Set up $X$ (model dependence)\n",
    "- Calculate $\\hat\\beta$\n",
    "- Set up $\\tilde y = X \\hat \\beta$\n",
    "- Compute $MSE$ with $\\hat\\beta$"
   ]
  },
  {
   "cell_type": "code",
   "execution_count": 3,
   "metadata": {},
   "outputs": [
    {
     "data": {
      "text/plain": [
       "array([[1.99345403],\n",
       "       [0.07158952],\n",
       "       [4.88969369]])"
      ]
     },
     "execution_count": 3,
     "metadata": {},
     "output_type": "execute_result"
    }
   ],
   "source": [
    "X = np.array([[1, x_, x_**2] for x_ in x[:,0]])\n",
    "\n",
    "opt_beta = np.linalg.inv(X.T @ X) @ X.T @ y\n",
    "\n",
    "opt_beta"
   ]
  },
  {
   "cell_type": "code",
   "execution_count": 4,
   "metadata": {},
   "outputs": [
    {
     "name": "stdout",
     "output_type": "stream",
     "text": [
      "MSE = 0.00970625586177979\n"
     ]
    }
   ],
   "source": [
    "y_tilde = X @ opt_beta\n",
    "\n",
    "mse = (1/n) * ((y - y_tilde).T @ (y - y_tilde))[0,0]\n",
    "\n",
    "print(f\"MSE = {mse}\")"
   ]
  },
  {
   "cell_type": "markdown",
   "metadata": {},
   "source": [
    "2. Using scikit-learn:"
   ]
  },
  {
   "cell_type": "code",
   "execution_count": 5,
   "metadata": {},
   "outputs": [
    {
     "data": {
      "text/plain": [
       "array([[1.99345403, 0.07158952, 4.88969369]])"
      ]
     },
     "execution_count": 5,
     "metadata": {},
     "output_type": "execute_result"
    }
   ],
   "source": [
    "poly2 = PolynomialFeatures(degree=2)\n",
    "X = poly2.fit_transform(x)\n",
    "\n",
    "clf2 = LinearRegression(fit_intercept= False)\n",
    "clf2.fit(X,y)\n",
    "\n",
    "clf2.coef_"
   ]
  },
  {
   "cell_type": "code",
   "execution_count": 6,
   "metadata": {},
   "outputs": [
    {
     "name": "stdout",
     "output_type": "stream",
     "text": [
      "MSE = 0.0097062558617798\n"
     ]
    }
   ],
   "source": [
    "y_pred = clf2.predict(X)\n",
    "\n",
    "mse = mean_squared_error(y, y_pred)\n",
    "\n",
    "print(f\"MSE = {mse}\")"
   ]
  },
  {
   "cell_type": "code",
   "execution_count": 7,
   "metadata": {},
   "outputs": [
    {
     "name": "stdout",
     "output_type": "stream",
     "text": [
      "Variance score = 0.9949204870412713\n"
     ]
    }
   ],
   "source": [
    "variance_score = r2_score(y, y_pred)\n",
    "\n",
    "print(f\"Variance score = {variance_score}\")"
   ]
  },
  {
   "cell_type": "markdown",
   "metadata": {},
   "source": [
    "We achieve low MSE values and a Variance score close to 1, which tells us that the model is well fit to the data. As the data contains some stochastic noise, we cannot expect a perfect fit (i.e. MSE = 0, R2 = 1), however we are quite close.\n",
    "\n",
    "Increasing/decreasing the coefficient in front of the stochastic noise term does not change the $\\hat \\beta$ (model coefficients) substantially, however increasing it increases the MSE and reduces the variance score, and accordingly decreasing it decreases the MSE and increases the variance score. If we make it really low, we see that our coefficients are slightly closer matching the theoretical solution perfectly. (i.e. [2, 0, 5]).\n",
    "\n",
    "This is expected as the noise makes it harder for the model to recognize the actual pattern, as well as making it impossible for a polynomial of second order to perfectly fit to the data."
   ]
  },
  {
   "cell_type": "markdown",
   "metadata": {},
   "source": [
    "## Exercise 3:"
   ]
  },
  {
   "cell_type": "code",
   "execution_count": 27,
   "metadata": {},
   "outputs": [],
   "source": [
    "np.random.seed()\n",
    "n = 500\n",
    "# Make data set.\n",
    "x = np.linspace(-3, 3, n).reshape(-1, 1)\n",
    "y = np.exp(-x**2) + 1.5 * np.exp(-(x-2)**2)+ np.random.normal(0, 0.1, x.shape)"
   ]
  },
  {
   "cell_type": "markdown",
   "metadata": {},
   "source": [
    "##### 3a)"
   ]
  },
  {
   "cell_type": "code",
   "execution_count": 9,
   "metadata": {},
   "outputs": [],
   "source": [
    "X = np.ones((n, 6))\n",
    "X[:,1] = x[:,0]\n",
    "X[:,2] = x[:,0]**2\n",
    "X[:,3] = x[:,0]**3\n",
    "X[:,4] = x[:,0]**4\n",
    "X[:,5] = x[:,0]**5"
   ]
  },
  {
   "cell_type": "code",
   "execution_count": 10,
   "metadata": {},
   "outputs": [],
   "source": [
    "test_size=0.2\n",
    "train_X, test_X, train_y, test_y = train_test_split(X, y, test_size=test_size)"
   ]
  },
  {
   "cell_type": "markdown",
   "metadata": {},
   "source": [
    "##### 3b)"
   ]
  },
  {
   "cell_type": "code",
   "execution_count": 11,
   "metadata": {},
   "outputs": [
    {
     "name": "stdout",
     "output_type": "stream",
     "text": [
      "Coefficients = [ 0.82283309  0.30314406 -0.02018724  0.04638296 -0.00371593 -0.00847238]\n",
      "Train MSE = 0.023288160202338225\n",
      "Test MSE  = 0.027103768016929843\n"
     ]
    }
   ],
   "source": [
    "opt_beta = np.linalg.inv(train_X.T @ train_X) @ train_X.T @ train_y\n",
    "\n",
    "train_y_tilde = train_X @ opt_beta\n",
    "mse_train = (1/(n*(1-test_size))) * ((train_y - train_y_tilde).T @ (train_y - train_y_tilde))[0,0]\n",
    "\n",
    "test_y_tilde = test_X @ opt_beta\n",
    "mse_test = (1/(n*test_size)) * ((test_y - test_y_tilde).T @ (test_y - test_y_tilde))[0,0]\n",
    "\n",
    "print(f\"Coefficients = {opt_beta[:,0]}\")\n",
    "print(f\"Train MSE = {mse_train}\")\n",
    "print(f\"Test MSE  = {mse_test}\")"
   ]
  },
  {
   "cell_type": "markdown",
   "metadata": {},
   "source": [
    "#### 3c)"
   ]
  },
  {
   "cell_type": "code",
   "execution_count": 12,
   "metadata": {},
   "outputs": [],
   "source": [
    "def trainTestMSE(x: np.ndarray, y: np.ndarray, degree: int, test_size: float = 0.2):\n",
    "    n = len(x)\n",
    "\n",
    "    # Create X\n",
    "    X = np.ones((n, degree+1))\n",
    "    for i in range(1, degree+1):\n",
    "        X[:,i] = x[:,0]**i\n",
    "\n",
    "    train_X, test_X, train_y, test_y = train_test_split(X, y, test_size=test_size)\n",
    "\n",
    "    opt_beta = np.linalg.inv(train_X.T @ train_X) @ train_X.T @ train_y\n",
    "\n",
    "    train_y_tilde = train_X @ opt_beta\n",
    "    mse_train = (1/(n*(1-test_size))) * ((train_y - train_y_tilde).T @ (train_y - train_y_tilde))[0,0]\n",
    "\n",
    "    test_y_tilde = test_X @ opt_beta\n",
    "    mse_test = (1/(n*test_size)) * ((test_y - test_y_tilde).T @ (test_y - test_y_tilde))[0,0]\n",
    "\n",
    "    return mse_train, mse_test"
   ]
  },
  {
   "cell_type": "code",
   "execution_count": 28,
   "metadata": {},
   "outputs": [
    {
     "data": {
      "text/plain": [
       "Text(0.5, 1.0, 'MSE for OLS-fitted model with $n=3000$, $\\\\text{test_size}=0.2$')"
      ]
     },
     "execution_count": 28,
     "metadata": {},
     "output_type": "execute_result"
    },
    {
     "data": {
      "image/png": "[encoded data removed]",
      "text/plain": [
       "<Figure size 640x480 with 1 Axes>"
      ]
     },
     "metadata": {},
     "output_type": "display_data"
    }
   ],
   "source": [
    "max_deg = 15\n",
    "\n",
    "mse_train_list = []\n",
    "mse_test_list = []\n",
    "degs = list(range(1, max_deg+1))\n",
    "\n",
    "for deg in degs:\n",
    "    mse_train, mse_test = trainTestMSE(x, y, deg)\n",
    "    mse_train_list.append(mse_train)\n",
    "    mse_test_list.append(mse_test)\n",
    "\n",
    "plt.plot(degs, mse_train_list, label='MSE for training data')\n",
    "plt.plot(degs, mse_test_list, label='MSE for test data')\n",
    "plt.legend()\n",
    "plt.xlabel('Polynomial degree')\n",
    "plt.ylabel('MSE')\n",
    "plt.title(rf'MSE for OLS-fitted model with $n={n}$, $\\text{{test_size}}={test_size}$')"
   ]
  },
  {
   "cell_type": "markdown",
   "metadata": {},
   "source": [
    "In contrast to what is described in Figure 2.11 of Hastie et al, we do not observe a substantial increase in MSE for test data as we increase the polynomial degree.\n"
   ]
  }
 ],
 "metadata": {
  "kernelspec": {
   "display_name": "Python 3",
   "language": "python",
   "name": "python3"
  },
  "language_info": {
   "codemirror_mode": {
    "name": "ipython",
    "version": 3
   },
   "file_extension": ".py",
   "mimetype": "text/x-python",
   "name": "python",
   "nbconvert_exporter": "python",
   "pygments_lexer": "ipython3",
   "version": "3.12.4"
  }
 },
 "nbformat": 4,
 "nbformat_minor": 2
}
